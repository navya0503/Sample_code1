{
 "cells": [
  {
   "cell_type": "markdown",
   "metadata": {
    "id": "u-EEv9utoT69"
   },
   "source": [
    "# Data Preparation"
   ]
  },
  {
   "cell_type": "code",
   "execution_count": 2,
   "metadata": {
    "id": "Qykq4YuQtZUS"
   },
   "outputs": [],
   "source": [
    "import pandas as pd"
   ]
  },
  {
   "cell_type": "code",
   "execution_count": 3,
   "metadata": {},
   "outputs": [],
   "source": [
    "#Load the CSV file into the data frame\n",
    "datafile = 'A1data.csv' \n",
    "datafile = pd.read_csv(datafile, sep=',', decimal='.') #Read the csv file"
   ]
  },
  {
   "cell_type": "code",
   "execution_count": 4,
   "metadata": {},
   "outputs": [
    {
     "data": {
      "text/plain": [
       "ISO3                         object\n",
       "Countries and areas          object\n",
       "Region                       object\n",
       "Sub-region                   object\n",
       "Income Group                 object\n",
       "Total                        object\n",
       "Residence (Rural)            object\n",
       "Residence (Urban)            object\n",
       "Wealth quintile (Poorest)    object\n",
       "Wealth quintile (Richest)    object\n",
       "Time period                  object\n",
       "dtype: object"
      ]
     },
     "execution_count": 4,
     "metadata": {},
     "output_type": "execute_result"
    }
   ],
   "source": [
    "#Check the types of columns\n",
    "datafile.dtypes"
   ]
  },
  {
   "cell_type": "code",
   "execution_count": 5,
   "metadata": {},
   "outputs": [
    {
     "data": {
      "text/html": [
       "<div>\n",
       "<style scoped>\n",
       "    .dataframe tbody tr th:only-of-type {\n",
       "        vertical-align: middle;\n",
       "    }\n",
       "\n",
       "    .dataframe tbody tr th {\n",
       "        vertical-align: top;\n",
       "    }\n",
       "\n",
       "    .dataframe thead th {\n",
       "        text-align: right;\n",
       "    }\n",
       "</style>\n",
       "<table border=\"1\" class=\"dataframe\">\n",
       "  <thead>\n",
       "    <tr style=\"text-align: right;\">\n",
       "      <th></th>\n",
       "      <th>ISO3</th>\n",
       "      <th>Countries and areas</th>\n",
       "      <th>Region</th>\n",
       "      <th>Sub-region</th>\n",
       "      <th>Income Group</th>\n",
       "      <th>Total</th>\n",
       "      <th>Residence (Rural)</th>\n",
       "      <th>Residence (Urban)</th>\n",
       "      <th>Wealth quintile (Poorest)</th>\n",
       "      <th>Wealth quintile (Richest)</th>\n",
       "      <th>Time period</th>\n",
       "    </tr>\n",
       "  </thead>\n",
       "  <tbody>\n",
       "    <tr>\n",
       "      <th>0</th>\n",
       "      <td>DZA</td>\n",
       "      <td>Algeria</td>\n",
       "      <td>MENA</td>\n",
       "      <td>MENA</td>\n",
       "      <td>Upper middle income (UM)</td>\n",
       "      <td>25%</td>\n",
       "      <td>10%</td>\n",
       "      <td>33%</td>\n",
       "      <td>1%</td>\n",
       "      <td>78%</td>\n",
       "      <td>2018-2019</td>\n",
       "    </tr>\n",
       "    <tr>\n",
       "      <th>1</th>\n",
       "      <td>AGO</td>\n",
       "      <td>Angola</td>\n",
       "      <td>SSA</td>\n",
       "      <td>ESA</td>\n",
       "      <td>Lower middle income (LM)</td>\n",
       "      <td>19%</td>\n",
       "      <td>2%</td>\n",
       "      <td>27%</td>\n",
       "      <td>0%</td>\n",
       "      <td>62%</td>\n",
       "      <td>2015-2016</td>\n",
       "    </tr>\n",
       "  </tbody>\n",
       "</table>\n",
       "</div>"
      ],
      "text/plain": [
       "  ISO3 Countries and areas Region Sub-region              Income Group Total  \\\n",
       "0  DZA             Algeria   MENA       MENA  Upper middle income (UM)   25%   \n",
       "1  AGO              Angola    SSA        ESA  Lower middle income (LM)   19%   \n",
       "\n",
       "  Residence (Rural) Residence (Urban) Wealth quintile (Poorest)  \\\n",
       "0               10%               33%                        1%   \n",
       "1                2%               27%                        0%   \n",
       "\n",
       "  Wealth quintile (Richest) Time period  \n",
       "0                       78%   2018-2019  \n",
       "1                       62%   2015-2016  "
      ]
     },
     "execution_count": 5,
     "metadata": {},
     "output_type": "execute_result"
    }
   ],
   "source": [
    "#Print the 1st 2 rows of the data frame \n",
    "datafile.head(2)"
   ]
  },
  {
   "cell_type": "code",
   "execution_count": 6,
   "metadata": {},
   "outputs": [
    {
     "name": "stdout",
     "output_type": "stream",
     "text": [
      "<class 'pandas.core.frame.DataFrame'>\n",
      "RangeIndex: 90 entries, 0 to 89\n",
      "Data columns (total 11 columns):\n",
      " #   Column                     Non-Null Count  Dtype \n",
      "---  ------                     --------------  ----- \n",
      " 0   ISO3                       90 non-null     object\n",
      " 1   Countries and areas        90 non-null     object\n",
      " 2   Region                     90 non-null     object\n",
      " 3   Sub-region                 90 non-null     object\n",
      " 4   Income Group               90 non-null     object\n",
      " 5   Total                      90 non-null     object\n",
      " 6   Residence (Rural)          85 non-null     object\n",
      " 7   Residence (Urban)          86 non-null     object\n",
      " 8   Wealth quintile (Poorest)  83 non-null     object\n",
      " 9   Wealth quintile (Richest)  83 non-null     object\n",
      " 10  Time period                90 non-null     object\n",
      "dtypes: object(11)\n",
      "memory usage: 7.9+ KB\n"
     ]
    }
   ],
   "source": [
    "datafile.info() # see the infotmation of the dataframe"
   ]
  },
  {
   "cell_type": "code",
   "execution_count": 7,
   "metadata": {},
   "outputs": [],
   "source": [
    "# ISSUE 1: Changing data types of few columns to appropriate data types if required"
   ]
  },
  {
   "cell_type": "code",
   "execution_count": 8,
   "metadata": {},
   "outputs": [],
   "source": [
    "columns_to_change = ['Total', 'Residence (Rural)', 'Residence (Urban)', 'Wealth quintile (Poorest)', 'Wealth quintile (Richest)']   "
   ]
  },
  {
   "cell_type": "code",
   "execution_count": 9,
   "metadata": {},
   "outputs": [],
   "source": [
    "for col in columns_to_change: #Iterate a for loop\n",
    "    datafile[col] = datafile[col].str.replace('%', '', regex=False).replace(' ', '') # Remove the '%' character\n",
    "    datafile[col] = pd.to_numeric(datafile[col], errors='coerce') #substitute NaN for non-numeric values\n",
    "datafile[columns_to_change] = datafile[columns_to_change].astype(float) #Convert to float data type"
   ]
  },
  {
   "cell_type": "code",
   "execution_count": 10,
   "metadata": {},
   "outputs": [
    {
     "data": {
      "text/html": [
       "<div>\n",
       "<style scoped>\n",
       "    .dataframe tbody tr th:only-of-type {\n",
       "        vertical-align: middle;\n",
       "    }\n",
       "\n",
       "    .dataframe tbody tr th {\n",
       "        vertical-align: top;\n",
       "    }\n",
       "\n",
       "    .dataframe thead th {\n",
       "        text-align: right;\n",
       "    }\n",
       "</style>\n",
       "<table border=\"1\" class=\"dataframe\">\n",
       "  <thead>\n",
       "    <tr style=\"text-align: right;\">\n",
       "      <th></th>\n",
       "      <th>ISO3</th>\n",
       "      <th>Countries and areas</th>\n",
       "      <th>Region</th>\n",
       "      <th>Sub-region</th>\n",
       "      <th>Income Group</th>\n",
       "      <th>Total</th>\n",
       "      <th>Residence (Rural)</th>\n",
       "      <th>Residence (Urban)</th>\n",
       "      <th>Wealth quintile (Poorest)</th>\n",
       "      <th>Wealth quintile (Richest)</th>\n",
       "      <th>Time period</th>\n",
       "    </tr>\n",
       "  </thead>\n",
       "  <tbody>\n",
       "    <tr>\n",
       "      <th>0</th>\n",
       "      <td>DZA</td>\n",
       "      <td>Algeria</td>\n",
       "      <td>MENA</td>\n",
       "      <td>MENA</td>\n",
       "      <td>Upper middle income (UM)</td>\n",
       "      <td>25.0</td>\n",
       "      <td>10.0</td>\n",
       "      <td>33.0</td>\n",
       "      <td>1.0</td>\n",
       "      <td>78.0</td>\n",
       "      <td>2018-2019</td>\n",
       "    </tr>\n",
       "    <tr>\n",
       "      <th>1</th>\n",
       "      <td>AGO</td>\n",
       "      <td>Angola</td>\n",
       "      <td>SSA</td>\n",
       "      <td>ESA</td>\n",
       "      <td>Lower middle income (LM)</td>\n",
       "      <td>19.0</td>\n",
       "      <td>2.0</td>\n",
       "      <td>27.0</td>\n",
       "      <td>0.0</td>\n",
       "      <td>62.0</td>\n",
       "      <td>2015-2016</td>\n",
       "    </tr>\n",
       "  </tbody>\n",
       "</table>\n",
       "</div>"
      ],
      "text/plain": [
       "  ISO3 Countries and areas Region Sub-region              Income Group  Total  \\\n",
       "0  DZA             Algeria   MENA       MENA  Upper middle income (UM)   25.0   \n",
       "1  AGO              Angola    SSA        ESA  Lower middle income (LM)   19.0   \n",
       "\n",
       "   Residence (Rural)  Residence (Urban)  Wealth quintile (Poorest)  \\\n",
       "0               10.0               33.0                        1.0   \n",
       "1                2.0               27.0                        0.0   \n",
       "\n",
       "   Wealth quintile (Richest) Time period  \n",
       "0                       78.0   2018-2019  \n",
       "1                       62.0   2015-2016  "
      ]
     },
     "execution_count": 10,
     "metadata": {},
     "output_type": "execute_result"
    }
   ],
   "source": [
    "datafile.head(2) #Print the 2 rows of the data frame"
   ]
  },
  {
   "cell_type": "code",
   "execution_count": 11,
   "metadata": {},
   "outputs": [],
   "source": [
    "# ISSUE 2: Handling Missing values"
   ]
  },
  {
   "cell_type": "code",
   "execution_count": 12,
   "metadata": {},
   "outputs": [
    {
     "data": {
      "text/plain": [
       "ISO3                         0\n",
       "Countries and areas          0\n",
       "Region                       0\n",
       "Sub-region                   0\n",
       "Income Group                 0\n",
       "Total                        0\n",
       "Residence (Rural)            5\n",
       "Residence (Urban)            4\n",
       "Wealth quintile (Poorest)    7\n",
       "Wealth quintile (Richest)    7\n",
       "Time period                  0\n",
       "dtype: int64"
      ]
     },
     "execution_count": 12,
     "metadata": {},
     "output_type": "execute_result"
    }
   ],
   "source": [
    "#Display the missing values count in the data frame\n",
    "datafile.isnull().sum()"
   ]
  },
  {
   "cell_type": "code",
   "execution_count": 13,
   "metadata": {},
   "outputs": [],
   "source": [
    "columns_fill = [\"Residence (Rural)\", \"Residence (Urban)\", \"Wealth quintile (Poorest)\", \"Wealth quintile (Richest)\"] \n",
    "mean_of_col = datafile[columns_fill].mean() #Calculate the mean of the columns\n",
    "datafile[columns_fill] = datafile[columns_fill].fillna(mean_of_col) # fill with the mean values "
   ]
  },
  {
   "cell_type": "code",
   "execution_count": 14,
   "metadata": {},
   "outputs": [
    {
     "data": {
      "text/html": [
       "<div>\n",
       "<style scoped>\n",
       "    .dataframe tbody tr th:only-of-type {\n",
       "        vertical-align: middle;\n",
       "    }\n",
       "\n",
       "    .dataframe tbody tr th {\n",
       "        vertical-align: top;\n",
       "    }\n",
       "\n",
       "    .dataframe thead th {\n",
       "        text-align: right;\n",
       "    }\n",
       "</style>\n",
       "<table border=\"1\" class=\"dataframe\">\n",
       "  <thead>\n",
       "    <tr style=\"text-align: right;\">\n",
       "      <th></th>\n",
       "      <th>ISO3</th>\n",
       "      <th>Countries and areas</th>\n",
       "      <th>Region</th>\n",
       "      <th>Sub-region</th>\n",
       "      <th>Income Group</th>\n",
       "      <th>Total</th>\n",
       "      <th>Residence (Rural)</th>\n",
       "      <th>Residence (Urban)</th>\n",
       "      <th>Wealth quintile (Poorest)</th>\n",
       "      <th>Wealth quintile (Richest)</th>\n",
       "      <th>Time period</th>\n",
       "    </tr>\n",
       "  </thead>\n",
       "  <tbody>\n",
       "    <tr>\n",
       "      <th>0</th>\n",
       "      <td>DZA</td>\n",
       "      <td>Algeria</td>\n",
       "      <td>MENA</td>\n",
       "      <td>MENA</td>\n",
       "      <td>Upper middle income (UM)</td>\n",
       "      <td>25.0</td>\n",
       "      <td>10.000000</td>\n",
       "      <td>33.000000</td>\n",
       "      <td>1.000000</td>\n",
       "      <td>78.000000</td>\n",
       "      <td>2018-2019</td>\n",
       "    </tr>\n",
       "    <tr>\n",
       "      <th>1</th>\n",
       "      <td>AGO</td>\n",
       "      <td>Angola</td>\n",
       "      <td>SSA</td>\n",
       "      <td>ESA</td>\n",
       "      <td>Lower middle income (LM)</td>\n",
       "      <td>19.0</td>\n",
       "      <td>2.000000</td>\n",
       "      <td>27.000000</td>\n",
       "      <td>0.000000</td>\n",
       "      <td>62.000000</td>\n",
       "      <td>2015-2016</td>\n",
       "    </tr>\n",
       "    <tr>\n",
       "      <th>2</th>\n",
       "      <td>ARG</td>\n",
       "      <td>Argentina</td>\n",
       "      <td>LAC</td>\n",
       "      <td>LAC</td>\n",
       "      <td>Upper middle income (UM)</td>\n",
       "      <td>43.0</td>\n",
       "      <td>26.388235</td>\n",
       "      <td>44.151163</td>\n",
       "      <td>17.915663</td>\n",
       "      <td>62.204819</td>\n",
       "      <td>2011-2012</td>\n",
       "    </tr>\n",
       "    <tr>\n",
       "      <th>3</th>\n",
       "      <td>ARM</td>\n",
       "      <td>Armenia</td>\n",
       "      <td>ECA</td>\n",
       "      <td>EECA</td>\n",
       "      <td>Upper middle income (UM)</td>\n",
       "      <td>81.0</td>\n",
       "      <td>71.000000</td>\n",
       "      <td>89.000000</td>\n",
       "      <td>44.000000</td>\n",
       "      <td>99.000000</td>\n",
       "      <td>2015-2016</td>\n",
       "    </tr>\n",
       "    <tr>\n",
       "      <th>4</th>\n",
       "      <td>BGD</td>\n",
       "      <td>Bangladesh</td>\n",
       "      <td>SA</td>\n",
       "      <td>SA</td>\n",
       "      <td>Lower middle income (LM)</td>\n",
       "      <td>34.0</td>\n",
       "      <td>31.000000</td>\n",
       "      <td>48.000000</td>\n",
       "      <td>8.000000</td>\n",
       "      <td>73.000000</td>\n",
       "      <td>2019</td>\n",
       "    </tr>\n",
       "  </tbody>\n",
       "</table>\n",
       "</div>"
      ],
      "text/plain": [
       "  ISO3 Countries and areas Region Sub-region              Income Group  Total  \\\n",
       "0  DZA             Algeria   MENA       MENA  Upper middle income (UM)   25.0   \n",
       "1  AGO              Angola    SSA        ESA  Lower middle income (LM)   19.0   \n",
       "2  ARG           Argentina    LAC        LAC  Upper middle income (UM)   43.0   \n",
       "3  ARM             Armenia    ECA       EECA  Upper middle income (UM)   81.0   \n",
       "4  BGD          Bangladesh     SA         SA  Lower middle income (LM)   34.0   \n",
       "\n",
       "   Residence (Rural)  Residence (Urban)  Wealth quintile (Poorest)  \\\n",
       "0          10.000000          33.000000                   1.000000   \n",
       "1           2.000000          27.000000                   0.000000   \n",
       "2          26.388235          44.151163                  17.915663   \n",
       "3          71.000000          89.000000                  44.000000   \n",
       "4          31.000000          48.000000                   8.000000   \n",
       "\n",
       "   Wealth quintile (Richest) Time period  \n",
       "0                  78.000000   2018-2019  \n",
       "1                  62.000000   2015-2016  \n",
       "2                  62.204819   2011-2012  \n",
       "3                  99.000000   2015-2016  \n",
       "4                  73.000000        2019  "
      ]
     },
     "execution_count": 14,
     "metadata": {},
     "output_type": "execute_result"
    }
   ],
   "source": [
    "datafile.head() #Print the 1st few rows of the data frame"
   ]
  },
  {
   "cell_type": "code",
   "execution_count": 15,
   "metadata": {},
   "outputs": [],
   "source": [
    "# Issue 3: Standardizing a column for consistency"
   ]
  },
  {
   "cell_type": "code",
   "execution_count": 16,
   "metadata": {},
   "outputs": [],
   "source": [
    "# Standardize the TimePeriod column\n",
    "datafile['Start Period'] = datafile['Time period'].str.split('-').str[0].astype(int) # Split the 'Time period' column on the '-' character and take the first part (i.e., the start period)\n",
    "datafile['End Period'] = datafile['Time period'].str.split('-').str[1].fillna(datafile['Start Period']).astype(int) #Split the 'Time period' column on the '-' character and take the second part (i.e., the end period"
   ]
  },
  {
   "cell_type": "code",
   "execution_count": 17,
   "metadata": {},
   "outputs": [
    {
     "data": {
      "text/html": [
       "<div>\n",
       "<style scoped>\n",
       "    .dataframe tbody tr th:only-of-type {\n",
       "        vertical-align: middle;\n",
       "    }\n",
       "\n",
       "    .dataframe tbody tr th {\n",
       "        vertical-align: top;\n",
       "    }\n",
       "\n",
       "    .dataframe thead th {\n",
       "        text-align: right;\n",
       "    }\n",
       "</style>\n",
       "<table border=\"1\" class=\"dataframe\">\n",
       "  <thead>\n",
       "    <tr style=\"text-align: right;\">\n",
       "      <th></th>\n",
       "      <th>ISO3</th>\n",
       "      <th>Countries and areas</th>\n",
       "      <th>Region</th>\n",
       "      <th>Sub-region</th>\n",
       "      <th>Income Group</th>\n",
       "      <th>Total</th>\n",
       "      <th>Residence (Rural)</th>\n",
       "      <th>Residence (Urban)</th>\n",
       "      <th>Wealth quintile (Poorest)</th>\n",
       "      <th>Wealth quintile (Richest)</th>\n",
       "      <th>Time period</th>\n",
       "      <th>Start Period</th>\n",
       "      <th>End Period</th>\n",
       "    </tr>\n",
       "  </thead>\n",
       "  <tbody>\n",
       "    <tr>\n",
       "      <th>0</th>\n",
       "      <td>DZA</td>\n",
       "      <td>Algeria</td>\n",
       "      <td>MENA</td>\n",
       "      <td>MENA</td>\n",
       "      <td>Upper middle income (UM)</td>\n",
       "      <td>25.0</td>\n",
       "      <td>10.0</td>\n",
       "      <td>33.0</td>\n",
       "      <td>1.0</td>\n",
       "      <td>78.0</td>\n",
       "      <td>2018-2019</td>\n",
       "      <td>2018</td>\n",
       "      <td>2019</td>\n",
       "    </tr>\n",
       "    <tr>\n",
       "      <th>1</th>\n",
       "      <td>AGO</td>\n",
       "      <td>Angola</td>\n",
       "      <td>SSA</td>\n",
       "      <td>ESA</td>\n",
       "      <td>Lower middle income (LM)</td>\n",
       "      <td>19.0</td>\n",
       "      <td>2.0</td>\n",
       "      <td>27.0</td>\n",
       "      <td>0.0</td>\n",
       "      <td>62.0</td>\n",
       "      <td>2015-2016</td>\n",
       "      <td>2015</td>\n",
       "      <td>2016</td>\n",
       "    </tr>\n",
       "  </tbody>\n",
       "</table>\n",
       "</div>"
      ],
      "text/plain": [
       "  ISO3 Countries and areas Region Sub-region              Income Group  Total  \\\n",
       "0  DZA             Algeria   MENA       MENA  Upper middle income (UM)   25.0   \n",
       "1  AGO              Angola    SSA        ESA  Lower middle income (LM)   19.0   \n",
       "\n",
       "   Residence (Rural)  Residence (Urban)  Wealth quintile (Poorest)  \\\n",
       "0               10.0               33.0                        1.0   \n",
       "1                2.0               27.0                        0.0   \n",
       "\n",
       "   Wealth quintile (Richest) Time period  Start Period  End Period  \n",
       "0                       78.0   2018-2019          2018        2019  \n",
       "1                       62.0   2015-2016          2015        2016  "
      ]
     },
     "execution_count": 17,
     "metadata": {},
     "output_type": "execute_result"
    }
   ],
   "source": [
    "datafile.head(2) #Print the 1st 2 rows of the data frame"
   ]
  },
  {
   "cell_type": "code",
   "execution_count": 18,
   "metadata": {},
   "outputs": [],
   "source": [
    "# Issue 4: Identifying and Removing Extra columns which are not necessary"
   ]
  },
  {
   "cell_type": "code",
   "execution_count": 19,
   "metadata": {},
   "outputs": [
    {
     "data": {
      "text/html": [
       "<div>\n",
       "<style scoped>\n",
       "    .dataframe tbody tr th:only-of-type {\n",
       "        vertical-align: middle;\n",
       "    }\n",
       "\n",
       "    .dataframe tbody tr th {\n",
       "        vertical-align: top;\n",
       "    }\n",
       "\n",
       "    .dataframe thead th {\n",
       "        text-align: right;\n",
       "    }\n",
       "</style>\n",
       "<table border=\"1\" class=\"dataframe\">\n",
       "  <thead>\n",
       "    <tr style=\"text-align: right;\">\n",
       "      <th></th>\n",
       "      <th>ISO3</th>\n",
       "      <th>Countries and areas</th>\n",
       "      <th>Region</th>\n",
       "      <th>Sub-region</th>\n",
       "      <th>Income Group</th>\n",
       "      <th>Total</th>\n",
       "      <th>Residence (Rural)</th>\n",
       "      <th>Residence (Urban)</th>\n",
       "      <th>Wealth quintile (Poorest)</th>\n",
       "      <th>Wealth quintile (Richest)</th>\n",
       "      <th>Start Period</th>\n",
       "      <th>End Period</th>\n",
       "    </tr>\n",
       "  </thead>\n",
       "  <tbody>\n",
       "    <tr>\n",
       "      <th>0</th>\n",
       "      <td>DZA</td>\n",
       "      <td>Algeria</td>\n",
       "      <td>MENA</td>\n",
       "      <td>MENA</td>\n",
       "      <td>Upper middle income (UM)</td>\n",
       "      <td>25.0</td>\n",
       "      <td>10.000000</td>\n",
       "      <td>33.000000</td>\n",
       "      <td>1.000000</td>\n",
       "      <td>78.000000</td>\n",
       "      <td>2018</td>\n",
       "      <td>2019</td>\n",
       "    </tr>\n",
       "    <tr>\n",
       "      <th>1</th>\n",
       "      <td>AGO</td>\n",
       "      <td>Angola</td>\n",
       "      <td>SSA</td>\n",
       "      <td>ESA</td>\n",
       "      <td>Lower middle income (LM)</td>\n",
       "      <td>19.0</td>\n",
       "      <td>2.000000</td>\n",
       "      <td>27.000000</td>\n",
       "      <td>0.000000</td>\n",
       "      <td>62.000000</td>\n",
       "      <td>2015</td>\n",
       "      <td>2016</td>\n",
       "    </tr>\n",
       "    <tr>\n",
       "      <th>2</th>\n",
       "      <td>ARG</td>\n",
       "      <td>Argentina</td>\n",
       "      <td>LAC</td>\n",
       "      <td>LAC</td>\n",
       "      <td>Upper middle income (UM)</td>\n",
       "      <td>43.0</td>\n",
       "      <td>26.388235</td>\n",
       "      <td>44.151163</td>\n",
       "      <td>17.915663</td>\n",
       "      <td>62.204819</td>\n",
       "      <td>2011</td>\n",
       "      <td>2012</td>\n",
       "    </tr>\n",
       "    <tr>\n",
       "      <th>3</th>\n",
       "      <td>ARM</td>\n",
       "      <td>Armenia</td>\n",
       "      <td>ECA</td>\n",
       "      <td>EECA</td>\n",
       "      <td>Upper middle income (UM)</td>\n",
       "      <td>81.0</td>\n",
       "      <td>71.000000</td>\n",
       "      <td>89.000000</td>\n",
       "      <td>44.000000</td>\n",
       "      <td>99.000000</td>\n",
       "      <td>2015</td>\n",
       "      <td>2016</td>\n",
       "    </tr>\n",
       "    <tr>\n",
       "      <th>4</th>\n",
       "      <td>BGD</td>\n",
       "      <td>Bangladesh</td>\n",
       "      <td>SA</td>\n",
       "      <td>SA</td>\n",
       "      <td>Lower middle income (LM)</td>\n",
       "      <td>34.0</td>\n",
       "      <td>31.000000</td>\n",
       "      <td>48.000000</td>\n",
       "      <td>8.000000</td>\n",
       "      <td>73.000000</td>\n",
       "      <td>2019</td>\n",
       "      <td>2019</td>\n",
       "    </tr>\n",
       "    <tr>\n",
       "      <th>...</th>\n",
       "      <td>...</td>\n",
       "      <td>...</td>\n",
       "      <td>...</td>\n",
       "      <td>...</td>\n",
       "      <td>...</td>\n",
       "      <td>...</td>\n",
       "      <td>...</td>\n",
       "      <td>...</td>\n",
       "      <td>...</td>\n",
       "      <td>...</td>\n",
       "      <td>...</td>\n",
       "      <td>...</td>\n",
       "    </tr>\n",
       "    <tr>\n",
       "      <th>85</th>\n",
       "      <td>URY</td>\n",
       "      <td>Uruguay</td>\n",
       "      <td>LAC</td>\n",
       "      <td>LAC</td>\n",
       "      <td>High income (H)</td>\n",
       "      <td>66.0</td>\n",
       "      <td>46.000000</td>\n",
       "      <td>68.000000</td>\n",
       "      <td>28.000000</td>\n",
       "      <td>66.000000</td>\n",
       "      <td>2012</td>\n",
       "      <td>2099</td>\n",
       "    </tr>\n",
       "    <tr>\n",
       "      <th>86</th>\n",
       "      <td>UZB</td>\n",
       "      <td>Uzbekistan</td>\n",
       "      <td>ECA</td>\n",
       "      <td>EECA</td>\n",
       "      <td>Lower middle income (LM)</td>\n",
       "      <td>18.0</td>\n",
       "      <td>14.000000</td>\n",
       "      <td>31.000000</td>\n",
       "      <td>1.000000</td>\n",
       "      <td>70.000000</td>\n",
       "      <td>2017</td>\n",
       "      <td>2017</td>\n",
       "    </tr>\n",
       "    <tr>\n",
       "      <th>87</th>\n",
       "      <td>VNM</td>\n",
       "      <td>Viet Nam</td>\n",
       "      <td>EAP</td>\n",
       "      <td>EAP</td>\n",
       "      <td>Lower middle income (LMM)</td>\n",
       "      <td>45.0</td>\n",
       "      <td>17.000000</td>\n",
       "      <td>62.000000</td>\n",
       "      <td>11.000000</td>\n",
       "      <td>82.000000</td>\n",
       "      <td>2012</td>\n",
       "      <td>2012</td>\n",
       "    </tr>\n",
       "    <tr>\n",
       "      <th>88</th>\n",
       "      <td>ZMB</td>\n",
       "      <td>Zambia</td>\n",
       "      <td>SSA</td>\n",
       "      <td>ESA</td>\n",
       "      <td>Lower middle income (LM)</td>\n",
       "      <td>8.0</td>\n",
       "      <td>2.000000</td>\n",
       "      <td>16.000000</td>\n",
       "      <td>0.000000</td>\n",
       "      <td>31.000000</td>\n",
       "      <td>2018</td>\n",
       "      <td>2019</td>\n",
       "    </tr>\n",
       "    <tr>\n",
       "      <th>89</th>\n",
       "      <td>ZWE</td>\n",
       "      <td>Zimbabwe</td>\n",
       "      <td>SSA</td>\n",
       "      <td>ESA</td>\n",
       "      <td>Lower middle income (LM)</td>\n",
       "      <td>24.0</td>\n",
       "      <td>17.000000</td>\n",
       "      <td>50.000000</td>\n",
       "      <td>4.000000</td>\n",
       "      <td>65.000000</td>\n",
       "      <td>2018</td>\n",
       "      <td>2019</td>\n",
       "    </tr>\n",
       "  </tbody>\n",
       "</table>\n",
       "<p>90 rows × 12 columns</p>\n",
       "</div>"
      ],
      "text/plain": [
       "   ISO3 Countries and areas Region Sub-region               Income Group  \\\n",
       "0   DZA             Algeria   MENA       MENA   Upper middle income (UM)   \n",
       "1   AGO              Angola    SSA        ESA   Lower middle income (LM)   \n",
       "2   ARG           Argentina    LAC        LAC   Upper middle income (UM)   \n",
       "3   ARM             Armenia    ECA       EECA   Upper middle income (UM)   \n",
       "4   BGD          Bangladesh     SA         SA   Lower middle income (LM)   \n",
       "..  ...                 ...    ...        ...                        ...   \n",
       "85  URY             Uruguay    LAC        LAC            High income (H)   \n",
       "86  UZB          Uzbekistan    ECA       EECA   Lower middle income (LM)   \n",
       "87  VNM            Viet Nam    EAP        EAP  Lower middle income (LMM)   \n",
       "88  ZMB              Zambia    SSA        ESA   Lower middle income (LM)   \n",
       "89  ZWE            Zimbabwe    SSA        ESA   Lower middle income (LM)   \n",
       "\n",
       "    Total  Residence (Rural)  Residence (Urban)  Wealth quintile (Poorest)  \\\n",
       "0    25.0          10.000000          33.000000                   1.000000   \n",
       "1    19.0           2.000000          27.000000                   0.000000   \n",
       "2    43.0          26.388235          44.151163                  17.915663   \n",
       "3    81.0          71.000000          89.000000                  44.000000   \n",
       "4    34.0          31.000000          48.000000                   8.000000   \n",
       "..    ...                ...                ...                        ...   \n",
       "85   66.0          46.000000          68.000000                  28.000000   \n",
       "86   18.0          14.000000          31.000000                   1.000000   \n",
       "87   45.0          17.000000          62.000000                  11.000000   \n",
       "88    8.0           2.000000          16.000000                   0.000000   \n",
       "89   24.0          17.000000          50.000000                   4.000000   \n",
       "\n",
       "    Wealth quintile (Richest)  Start Period  End Period  \n",
       "0                   78.000000          2018        2019  \n",
       "1                   62.000000          2015        2016  \n",
       "2                   62.204819          2011        2012  \n",
       "3                   99.000000          2015        2016  \n",
       "4                   73.000000          2019        2019  \n",
       "..                        ...           ...         ...  \n",
       "85                  66.000000          2012        2099  \n",
       "86                  70.000000          2017        2017  \n",
       "87                  82.000000          2012        2012  \n",
       "88                  31.000000          2018        2019  \n",
       "89                  65.000000          2018        2019  \n",
       "\n",
       "[90 rows x 12 columns]"
      ]
     },
     "execution_count": 19,
     "metadata": {},
     "output_type": "execute_result"
    }
   ],
   "source": [
    "datafile.drop(columns=['Time period']) #Time Period column is no more needed as we have start period and end period columns"
   ]
  },
  {
   "cell_type": "code",
   "execution_count": 20,
   "metadata": {},
   "outputs": [],
   "source": [
    "# Issue 5: Check for Duplicates"
   ]
  },
  {
   "cell_type": "code",
   "execution_count": 21,
   "metadata": {},
   "outputs": [
    {
     "data": {
      "text/plain": [
       "3"
      ]
     },
     "execution_count": 21,
     "metadata": {},
     "output_type": "execute_result"
    }
   ],
   "source": [
    "datafile.duplicated().sum() # Calculate the sum of the duplicate rows in the dataset"
   ]
  },
  {
   "cell_type": "code",
   "execution_count": 22,
   "metadata": {},
   "outputs": [],
   "source": [
    "datafile.drop_duplicates(inplace=True) # Drop the duplicated rows"
   ]
  },
  {
   "cell_type": "code",
   "execution_count": 23,
   "metadata": {},
   "outputs": [
    {
     "data": {
      "text/plain": [
       "0"
      ]
     },
     "execution_count": 23,
     "metadata": {},
     "output_type": "execute_result"
    }
   ],
   "source": [
    "datafile.duplicated().sum()"
   ]
  },
  {
   "cell_type": "code",
   "execution_count": 24,
   "metadata": {},
   "outputs": [
    {
     "name": "stdout",
     "output_type": "stream",
     "text": [
      "<class 'pandas.core.frame.DataFrame'>\n",
      "Index: 87 entries, 0 to 89\n",
      "Data columns (total 13 columns):\n",
      " #   Column                     Non-Null Count  Dtype  \n",
      "---  ------                     --------------  -----  \n",
      " 0   ISO3                       87 non-null     object \n",
      " 1   Countries and areas        87 non-null     object \n",
      " 2   Region                     87 non-null     object \n",
      " 3   Sub-region                 87 non-null     object \n",
      " 4   Income Group               87 non-null     object \n",
      " 5   Total                      87 non-null     float64\n",
      " 6   Residence (Rural)          87 non-null     float64\n",
      " 7   Residence (Urban)          87 non-null     float64\n",
      " 8   Wealth quintile (Poorest)  87 non-null     float64\n",
      " 9   Wealth quintile (Richest)  87 non-null     float64\n",
      " 10  Time period                87 non-null     object \n",
      " 11  Start Period               87 non-null     int32  \n",
      " 12  End Period                 87 non-null     int32  \n",
      "dtypes: float64(5), int32(2), object(6)\n",
      "memory usage: 8.8+ KB\n"
     ]
    }
   ],
   "source": [
    "datafile.info() # see the infotmation of the dataframe"
   ]
  },
  {
   "cell_type": "code",
   "execution_count": 25,
   "metadata": {},
   "outputs": [],
   "source": [
    "cleaned_file = 'updated-A1data.csv' # path of cleaned file"
   ]
  },
  {
   "cell_type": "code",
   "execution_count": 26,
   "metadata": {},
   "outputs": [],
   "source": [
    "#Read the CSV file\n",
    "datafile.to_csv(cleaned_file, index=False)"
   ]
  },
  {
   "cell_type": "markdown",
   "metadata": {
    "id": "r-i5aIqXpPbu"
   },
   "source": [
    "# Data Exploration"
   ]
  },
  {
   "cell_type": "code",
   "execution_count": 28,
   "metadata": {},
   "outputs": [],
   "source": [
    "datafile= pd.read_csv(cleaned_file)"
   ]
  },
  {
   "cell_type": "code",
   "execution_count": 29,
   "metadata": {},
   "outputs": [],
   "source": [
    "import matplotlib.pyplot as plt #importing pyplot from matplotlib libraries to create visualizations"
   ]
  },
  {
   "cell_type": "code",
   "execution_count": 30,
   "metadata": {},
   "outputs": [
    {
     "data": {
      "image/png": "[encoded data removed]",
      "text/plain": [
       "<Figure size 640x480 with 1 Axes>"
      ]
     },
     "metadata": {},
     "output_type": "display_data"
    }
   ],
   "source": [
    "# Creating a boxplot\n",
    "datafile.boxplot(column='Total',by='Region')\n",
    "plt.show()"
   ]
  },
  {
   "cell_type": "code",
   "execution_count": 31,
   "metadata": {},
   "outputs": [
    {
     "name": "stdout",
     "output_type": "stream",
     "text": [
      "Median:\n",
      "Region\n",
      "EAP     50.0\n",
      "ECA     81.0\n",
      "LAC     43.0\n",
      "MENA    33.0\n",
      "SA      39.0\n",
      "SSA      7.0\n",
      "Name: Total, dtype: float64\n"
     ]
    }
   ],
   "source": [
    "median_of_each_region = datafile.groupby('Region')['Total'].median() # calculating the median of each region grouping by column \"Total\"\n",
    "print(\"Median:\")\n",
    "print(median_of_each_region)"
   ]
  },
  {
   "cell_type": "code",
   "execution_count": 32,
   "metadata": {
    "id": "k3-8Pbi1n-Ei"
   },
   "outputs": [],
   "source": [
    "mean_poorest = datafile['Wealth quintile (Poorest)'].mean() #calculating the mean Wealth quintile (Poorest)\n",
    "mean_richest = datafile['Wealth quintile (Richest)'].mean() #calculating the mean Wealth quintile (Richest)"
   ]
  },
  {
   "cell_type": "code",
   "execution_count": 33,
   "metadata": {},
   "outputs": [
    {
     "name": "stdout",
     "output_type": "stream",
     "text": [
      "Mean for Wealth quintile (Poorest): 18.53\n",
      "Mean for Wealth quintile (Richest): 61.99\n"
     ]
    }
   ],
   "source": [
    "print(f\"Mean for Wealth quintile (Poorest): {mean_poorest:.2f}\")\n",
    "print(f\"Mean for Wealth quintile (Richest): {mean_richest:.2f}\")"
   ]
  }
 ],
 "metadata": {
  "colab": {
   "collapsed_sections": [],
   "name": "assignment1_TEMPLATE.ipynb",
   "provenance": [],
   "toc_visible": true
  },
  "kernelspec": {
   "display_name": "Python 3 (ipykernel)",
   "language": "python",
   "name": "python3"
  },
  "language_info": {
   "codemirror_mode": {
    "name": "ipython",
    "version": 3
   },
   "file_extension": ".py",
   "mimetype": "text/x-python",
   "name": "python",
   "nbconvert_exporter": "python",
   "pygments_lexer": "ipython3",
   "version": "3.12.4"
  }
 },
 "nbformat": 4,
 "nbformat_minor": 4
}
